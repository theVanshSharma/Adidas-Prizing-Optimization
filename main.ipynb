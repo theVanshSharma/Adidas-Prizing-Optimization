{
 "cells": [
  {
   "cell_type": "code",
   "execution_count": 13,
   "metadata": {},
   "outputs": [],
   "source": [
    "import pandas as pd"
   ]
  },
  {
   "cell_type": "code",
   "execution_count": 14,
   "metadata": {},
   "outputs": [],
   "source": [
    "df = pd.read_csv(\"Adidas US Sales Datasets.csv\")"
   ]
  },
  {
   "cell_type": "code",
   "execution_count": 15,
   "metadata": {},
   "outputs": [
    {
     "data": {
      "text/html": [
       "<div>\n",
       "<style scoped>\n",
       "    .dataframe tbody tr th:only-of-type {\n",
       "        vertical-align: middle;\n",
       "    }\n",
       "\n",
       "    .dataframe tbody tr th {\n",
       "        vertical-align: top;\n",
       "    }\n",
       "\n",
       "    .dataframe thead th {\n",
       "        text-align: right;\n",
       "    }\n",
       "</style>\n",
       "<table border=\"1\" class=\"dataframe\">\n",
       "  <thead>\n",
       "    <tr style=\"text-align: right;\">\n",
       "      <th></th>\n",
       "      <th>Retailer</th>\n",
       "      <th>Retailer ID</th>\n",
       "      <th>Invoice Date</th>\n",
       "      <th>Region</th>\n",
       "      <th>State</th>\n",
       "      <th>City</th>\n",
       "      <th>Product</th>\n",
       "      <th>Price per Unit</th>\n",
       "      <th>Units Sold</th>\n",
       "      <th>Total Sales</th>\n",
       "      <th>Operating Profit</th>\n",
       "      <th>Operating Margin</th>\n",
       "      <th>Sales Method</th>\n",
       "    </tr>\n",
       "  </thead>\n",
       "  <tbody>\n",
       "    <tr>\n",
       "      <th>0</th>\n",
       "      <td>Foot Locker</td>\n",
       "      <td>1185732</td>\n",
       "      <td>1-1-2020</td>\n",
       "      <td>Northeast</td>\n",
       "      <td>New York</td>\n",
       "      <td>New York</td>\n",
       "      <td>Men's Street Footwear</td>\n",
       "      <td>50.0</td>\n",
       "      <td>1200.0</td>\n",
       "      <td>600000.0</td>\n",
       "      <td>300000.0</td>\n",
       "      <td>0.50</td>\n",
       "      <td>In-store</td>\n",
       "    </tr>\n",
       "    <tr>\n",
       "      <th>1</th>\n",
       "      <td>Foot Locker</td>\n",
       "      <td>1185732</td>\n",
       "      <td>2-1-2020</td>\n",
       "      <td>Northeast</td>\n",
       "      <td>New York</td>\n",
       "      <td>New York</td>\n",
       "      <td>Men's Athletic Footwear</td>\n",
       "      <td>50.0</td>\n",
       "      <td>1000.0</td>\n",
       "      <td>500000.0</td>\n",
       "      <td>150000.0</td>\n",
       "      <td>0.30</td>\n",
       "      <td>In-store</td>\n",
       "    </tr>\n",
       "    <tr>\n",
       "      <th>2</th>\n",
       "      <td>Foot Locker</td>\n",
       "      <td>1185732</td>\n",
       "      <td>3-1-2020</td>\n",
       "      <td>Northeast</td>\n",
       "      <td>New York</td>\n",
       "      <td>New York</td>\n",
       "      <td>Women's Street Footwear</td>\n",
       "      <td>40.0</td>\n",
       "      <td>1000.0</td>\n",
       "      <td>400000.0</td>\n",
       "      <td>140000.0</td>\n",
       "      <td>0.35</td>\n",
       "      <td>In-store</td>\n",
       "    </tr>\n",
       "    <tr>\n",
       "      <th>3</th>\n",
       "      <td>Foot Locker</td>\n",
       "      <td>1185732</td>\n",
       "      <td>4-1-2020</td>\n",
       "      <td>Northeast</td>\n",
       "      <td>New York</td>\n",
       "      <td>New York</td>\n",
       "      <td>Women's Athletic Footwear</td>\n",
       "      <td>45.0</td>\n",
       "      <td>850.0</td>\n",
       "      <td>382500.0</td>\n",
       "      <td>133875.0</td>\n",
       "      <td>0.35</td>\n",
       "      <td>In-store</td>\n",
       "    </tr>\n",
       "    <tr>\n",
       "      <th>4</th>\n",
       "      <td>Foot Locker</td>\n",
       "      <td>1185732</td>\n",
       "      <td>5-1-2020</td>\n",
       "      <td>Northeast</td>\n",
       "      <td>New York</td>\n",
       "      <td>New York</td>\n",
       "      <td>Men's Apparel</td>\n",
       "      <td>60.0</td>\n",
       "      <td>900.0</td>\n",
       "      <td>540000.0</td>\n",
       "      <td>162000.0</td>\n",
       "      <td>0.30</td>\n",
       "      <td>In-store</td>\n",
       "    </tr>\n",
       "  </tbody>\n",
       "</table>\n",
       "</div>"
      ],
      "text/plain": [
       "      Retailer  Retailer ID Invoice Date     Region     State      City  \\\n",
       "0  Foot Locker      1185732     1-1-2020  Northeast  New York  New York   \n",
       "1  Foot Locker      1185732     2-1-2020  Northeast  New York  New York   \n",
       "2  Foot Locker      1185732     3-1-2020  Northeast  New York  New York   \n",
       "3  Foot Locker      1185732     4-1-2020  Northeast  New York  New York   \n",
       "4  Foot Locker      1185732     5-1-2020  Northeast  New York  New York   \n",
       "\n",
       "                     Product  Price per Unit  Units Sold  Total Sales  \\\n",
       "0      Men's Street Footwear            50.0      1200.0     600000.0   \n",
       "1    Men's Athletic Footwear            50.0      1000.0     500000.0   \n",
       "2    Women's Street Footwear            40.0      1000.0     400000.0   \n",
       "3  Women's Athletic Footwear            45.0       850.0     382500.0   \n",
       "4              Men's Apparel            60.0       900.0     540000.0   \n",
       "\n",
       "   Operating Profit  Operating Margin Sales Method  \n",
       "0          300000.0              0.50     In-store  \n",
       "1          150000.0              0.30     In-store  \n",
       "2          140000.0              0.35     In-store  \n",
       "3          133875.0              0.35     In-store  \n",
       "4          162000.0              0.30     In-store  "
      ]
     },
     "execution_count": 15,
     "metadata": {},
     "output_type": "execute_result"
    }
   ],
   "source": [
    "df.head()"
   ]
  },
  {
   "cell_type": "code",
   "execution_count": 18,
   "metadata": {},
   "outputs": [],
   "source": [
    "df['Invoice Date'] = pd.to_datetime(df['Invoice Date'],errors='coerce')"
   ]
  },
  {
   "cell_type": "code",
   "execution_count": 19,
   "metadata": {},
   "outputs": [
    {
     "name": "stdout",
     "output_type": "stream",
     "text": [
      "<class 'pandas.core.frame.DataFrame'>\n",
      "RangeIndex: 9648 entries, 0 to 9647\n",
      "Data columns (total 13 columns):\n",
      " #   Column            Non-Null Count  Dtype         \n",
      "---  ------            --------------  -----         \n",
      " 0   Retailer          9648 non-null   object        \n",
      " 1   Retailer ID       9648 non-null   int64         \n",
      " 2   Invoice Date      9648 non-null   datetime64[ns]\n",
      " 3   Region            9648 non-null   object        \n",
      " 4   State             9648 non-null   object        \n",
      " 5   City              9648 non-null   object        \n",
      " 6   Product           9648 non-null   object        \n",
      " 7   Price per Unit    9648 non-null   float64       \n",
      " 8   Units Sold        9648 non-null   float64       \n",
      " 9   Total Sales       9648 non-null   float64       \n",
      " 10  Operating Profit  9648 non-null   float64       \n",
      " 11  Operating Margin  9648 non-null   float64       \n",
      " 12  Sales Method      9648 non-null   object        \n",
      "dtypes: datetime64[ns](1), float64(5), int64(1), object(6)\n",
      "memory usage: 980.0+ KB\n"
     ]
    }
   ],
   "source": [
    "df.info()"
   ]
  },
  {
   "cell_type": "code",
   "execution_count": 20,
   "metadata": {},
   "outputs": [],
   "source": [
    "df.dropna(subset=['Retailer','Product','Invoice Date'],inplace=True)"
   ]
  },
  {
   "cell_type": "code",
   "execution_count": 21,
   "metadata": {},
   "outputs": [
    {
     "data": {
      "text/plain": [
       "9648"
      ]
     },
     "execution_count": 21,
     "metadata": {},
     "output_type": "execute_result"
    }
   ],
   "source": [
    "len(df)"
   ]
  },
  {
   "cell_type": "code",
   "execution_count": 22,
   "metadata": {},
   "outputs": [
    {
     "name": "stderr",
     "output_type": "stream",
     "text": [
      "C:\\Users\\Acer\\AppData\\Local\\Temp\\ipykernel_10900\\1666246328.py:1: FutureWarning: A value is trying to be set on a copy of a DataFrame or Series through chained assignment using an inplace method.\n",
      "The behavior will change in pandas 3.0. This inplace method will never work because the intermediate object on which we are setting values always behaves as a copy.\n",
      "\n",
      "For example, when doing 'df[col].method(value, inplace=True)', try using 'df.method({col: value}, inplace=True)' or df[col] = df[col].method(value) instead, to perform the operation inplace on the original object.\n",
      "\n",
      "\n",
      "  df['Price per Unit'].fillna(df['Price per Unit'].mean(), inplace=True)\n",
      "C:\\Users\\Acer\\AppData\\Local\\Temp\\ipykernel_10900\\1666246328.py:2: FutureWarning: A value is trying to be set on a copy of a DataFrame or Series through chained assignment using an inplace method.\n",
      "The behavior will change in pandas 3.0. This inplace method will never work because the intermediate object on which we are setting values always behaves as a copy.\n",
      "\n",
      "For example, when doing 'df[col].method(value, inplace=True)', try using 'df.method({col: value}, inplace=True)' or df[col] = df[col].method(value) instead, to perform the operation inplace on the original object.\n",
      "\n",
      "\n",
      "  df['Units Sold'].fillna(0, inplace=True)\n",
      "C:\\Users\\Acer\\AppData\\Local\\Temp\\ipykernel_10900\\1666246328.py:3: FutureWarning: A value is trying to be set on a copy of a DataFrame or Series through chained assignment using an inplace method.\n",
      "The behavior will change in pandas 3.0. This inplace method will never work because the intermediate object on which we are setting values always behaves as a copy.\n",
      "\n",
      "For example, when doing 'df[col].method(value, inplace=True)', try using 'df.method({col: value}, inplace=True)' or df[col] = df[col].method(value) instead, to perform the operation inplace on the original object.\n",
      "\n",
      "\n",
      "  df['Total Sales'].fillna(df['Price per Unit'] * df['Units Sold'], inplace=True)\n",
      "C:\\Users\\Acer\\AppData\\Local\\Temp\\ipykernel_10900\\1666246328.py:4: FutureWarning: A value is trying to be set on a copy of a DataFrame or Series through chained assignment using an inplace method.\n",
      "The behavior will change in pandas 3.0. This inplace method will never work because the intermediate object on which we are setting values always behaves as a copy.\n",
      "\n",
      "For example, when doing 'df[col].method(value, inplace=True)', try using 'df.method({col: value}, inplace=True)' or df[col] = df[col].method(value) instead, to perform the operation inplace on the original object.\n",
      "\n",
      "\n",
      "  df['Operating Profit'].fillna(df['Operating Profit'].mean(), inplace=True)\n",
      "C:\\Users\\Acer\\AppData\\Local\\Temp\\ipykernel_10900\\1666246328.py:5: FutureWarning: A value is trying to be set on a copy of a DataFrame or Series through chained assignment using an inplace method.\n",
      "The behavior will change in pandas 3.0. This inplace method will never work because the intermediate object on which we are setting values always behaves as a copy.\n",
      "\n",
      "For example, when doing 'df[col].method(value, inplace=True)', try using 'df.method({col: value}, inplace=True)' or df[col] = df[col].method(value) instead, to perform the operation inplace on the original object.\n",
      "\n",
      "\n",
      "  df['Operating Margin'].fillna(df['Operating Profit'] / df['Total Sales'], inplace=True)\n",
      "C:\\Users\\Acer\\AppData\\Local\\Temp\\ipykernel_10900\\1666246328.py:6: FutureWarning: A value is trying to be set on a copy of a DataFrame or Series through chained assignment using an inplace method.\n",
      "The behavior will change in pandas 3.0. This inplace method will never work because the intermediate object on which we are setting values always behaves as a copy.\n",
      "\n",
      "For example, when doing 'df[col].method(value, inplace=True)', try using 'df.method({col: value}, inplace=True)' or df[col] = df[col].method(value) instead, to perform the operation inplace on the original object.\n",
      "\n",
      "\n",
      "  df['Sales Method'].fillna('Unknown', inplace=True)\n"
     ]
    }
   ],
   "source": [
    "df['Price per Unit'].fillna(df['Price per Unit'].mean(), inplace=True)\n",
    "df['Units Sold'].fillna(0, inplace=True) \n",
    "df['Total Sales'].fillna(df['Price per Unit'] * df['Units Sold'], inplace=True)\n",
    "df['Operating Profit'].fillna(df['Operating Profit'].mean(), inplace=True)\n",
    "df['Operating Margin'].fillna(df['Operating Profit'] / df['Total Sales'], inplace=True)\n",
    "df['Sales Method'].fillna('Unknown', inplace=True)"
   ]
  },
  {
   "cell_type": "code",
   "execution_count": 23,
   "metadata": {},
   "outputs": [
    {
     "data": {
      "text/plain": [
       "Retailer            0\n",
       "Retailer ID         0\n",
       "Invoice Date        0\n",
       "Region              0\n",
       "State               0\n",
       "City                0\n",
       "Product             0\n",
       "Price per Unit      0\n",
       "Units Sold          0\n",
       "Total Sales         0\n",
       "Operating Profit    0\n",
       "Operating Margin    0\n",
       "Sales Method        0\n",
       "dtype: int64"
      ]
     },
     "execution_count": 23,
     "metadata": {},
     "output_type": "execute_result"
    }
   ],
   "source": [
    "df.isnull().sum()"
   ]
  },
  {
   "cell_type": "code",
   "execution_count": 24,
   "metadata": {},
   "outputs": [
    {
     "data": {
      "text/plain": [
       "9648"
      ]
     },
     "execution_count": 24,
     "metadata": {},
     "output_type": "execute_result"
    }
   ],
   "source": [
    "len(df)"
   ]
  },
  {
   "cell_type": "code",
   "execution_count": 25,
   "metadata": {},
   "outputs": [
    {
     "data": {
      "text/html": [
       "<div>\n",
       "<style scoped>\n",
       "    .dataframe tbody tr th:only-of-type {\n",
       "        vertical-align: middle;\n",
       "    }\n",
       "\n",
       "    .dataframe tbody tr th {\n",
       "        vertical-align: top;\n",
       "    }\n",
       "\n",
       "    .dataframe thead th {\n",
       "        text-align: right;\n",
       "    }\n",
       "</style>\n",
       "<table border=\"1\" class=\"dataframe\">\n",
       "  <thead>\n",
       "    <tr style=\"text-align: right;\">\n",
       "      <th></th>\n",
       "      <th>Retailer</th>\n",
       "      <th>Retailer ID</th>\n",
       "      <th>Invoice Date</th>\n",
       "      <th>Region</th>\n",
       "      <th>State</th>\n",
       "      <th>City</th>\n",
       "      <th>Product</th>\n",
       "      <th>Price per Unit</th>\n",
       "      <th>Units Sold</th>\n",
       "      <th>Total Sales</th>\n",
       "      <th>Operating Profit</th>\n",
       "      <th>Operating Margin</th>\n",
       "      <th>Sales Method</th>\n",
       "    </tr>\n",
       "  </thead>\n",
       "  <tbody>\n",
       "    <tr>\n",
       "      <th>0</th>\n",
       "      <td>Foot Locker</td>\n",
       "      <td>1185732</td>\n",
       "      <td>2020-01-01</td>\n",
       "      <td>Northeast</td>\n",
       "      <td>New York</td>\n",
       "      <td>New York</td>\n",
       "      <td>Men's Street Footwear</td>\n",
       "      <td>50.0</td>\n",
       "      <td>1200.0</td>\n",
       "      <td>600000.0</td>\n",
       "      <td>300000.0</td>\n",
       "      <td>0.50</td>\n",
       "      <td>In-store</td>\n",
       "    </tr>\n",
       "    <tr>\n",
       "      <th>1</th>\n",
       "      <td>Foot Locker</td>\n",
       "      <td>1185732</td>\n",
       "      <td>2020-02-01</td>\n",
       "      <td>Northeast</td>\n",
       "      <td>New York</td>\n",
       "      <td>New York</td>\n",
       "      <td>Men's Athletic Footwear</td>\n",
       "      <td>50.0</td>\n",
       "      <td>1000.0</td>\n",
       "      <td>500000.0</td>\n",
       "      <td>150000.0</td>\n",
       "      <td>0.30</td>\n",
       "      <td>In-store</td>\n",
       "    </tr>\n",
       "    <tr>\n",
       "      <th>2</th>\n",
       "      <td>Foot Locker</td>\n",
       "      <td>1185732</td>\n",
       "      <td>2020-03-01</td>\n",
       "      <td>Northeast</td>\n",
       "      <td>New York</td>\n",
       "      <td>New York</td>\n",
       "      <td>Women's Street Footwear</td>\n",
       "      <td>40.0</td>\n",
       "      <td>1000.0</td>\n",
       "      <td>400000.0</td>\n",
       "      <td>140000.0</td>\n",
       "      <td>0.35</td>\n",
       "      <td>In-store</td>\n",
       "    </tr>\n",
       "    <tr>\n",
       "      <th>3</th>\n",
       "      <td>Foot Locker</td>\n",
       "      <td>1185732</td>\n",
       "      <td>2020-04-01</td>\n",
       "      <td>Northeast</td>\n",
       "      <td>New York</td>\n",
       "      <td>New York</td>\n",
       "      <td>Women's Athletic Footwear</td>\n",
       "      <td>45.0</td>\n",
       "      <td>850.0</td>\n",
       "      <td>382500.0</td>\n",
       "      <td>133875.0</td>\n",
       "      <td>0.35</td>\n",
       "      <td>In-store</td>\n",
       "    </tr>\n",
       "    <tr>\n",
       "      <th>4</th>\n",
       "      <td>Foot Locker</td>\n",
       "      <td>1185732</td>\n",
       "      <td>2020-05-01</td>\n",
       "      <td>Northeast</td>\n",
       "      <td>New York</td>\n",
       "      <td>New York</td>\n",
       "      <td>Men's Apparel</td>\n",
       "      <td>60.0</td>\n",
       "      <td>900.0</td>\n",
       "      <td>540000.0</td>\n",
       "      <td>162000.0</td>\n",
       "      <td>0.30</td>\n",
       "      <td>In-store</td>\n",
       "    </tr>\n",
       "  </tbody>\n",
       "</table>\n",
       "</div>"
      ],
      "text/plain": [
       "      Retailer  Retailer ID Invoice Date     Region     State      City  \\\n",
       "0  Foot Locker      1185732   2020-01-01  Northeast  New York  New York   \n",
       "1  Foot Locker      1185732   2020-02-01  Northeast  New York  New York   \n",
       "2  Foot Locker      1185732   2020-03-01  Northeast  New York  New York   \n",
       "3  Foot Locker      1185732   2020-04-01  Northeast  New York  New York   \n",
       "4  Foot Locker      1185732   2020-05-01  Northeast  New York  New York   \n",
       "\n",
       "                     Product  Price per Unit  Units Sold  Total Sales  \\\n",
       "0      Men's Street Footwear            50.0      1200.0     600000.0   \n",
       "1    Men's Athletic Footwear            50.0      1000.0     500000.0   \n",
       "2    Women's Street Footwear            40.0      1000.0     400000.0   \n",
       "3  Women's Athletic Footwear            45.0       850.0     382500.0   \n",
       "4              Men's Apparel            60.0       900.0     540000.0   \n",
       "\n",
       "   Operating Profit  Operating Margin Sales Method  \n",
       "0          300000.0              0.50     In-store  \n",
       "1          150000.0              0.30     In-store  \n",
       "2          140000.0              0.35     In-store  \n",
       "3          133875.0              0.35     In-store  \n",
       "4          162000.0              0.30     In-store  "
      ]
     },
     "execution_count": 25,
     "metadata": {},
     "output_type": "execute_result"
    }
   ],
   "source": [
    "df.head()"
   ]
  },
  {
   "cell_type": "code",
   "execution_count": 26,
   "metadata": {},
   "outputs": [
    {
     "data": {
      "text/html": [
       "<div>\n",
       "<style scoped>\n",
       "    .dataframe tbody tr th:only-of-type {\n",
       "        vertical-align: middle;\n",
       "    }\n",
       "\n",
       "    .dataframe tbody tr th {\n",
       "        vertical-align: top;\n",
       "    }\n",
       "\n",
       "    .dataframe thead th {\n",
       "        text-align: right;\n",
       "    }\n",
       "</style>\n",
       "<table border=\"1\" class=\"dataframe\">\n",
       "  <thead>\n",
       "    <tr style=\"text-align: right;\">\n",
       "      <th></th>\n",
       "      <th>Retailer</th>\n",
       "      <th>Retailer ID</th>\n",
       "      <th>Invoice Date</th>\n",
       "      <th>Region</th>\n",
       "      <th>State</th>\n",
       "      <th>City</th>\n",
       "      <th>Product</th>\n",
       "      <th>Price per Unit</th>\n",
       "      <th>Units Sold</th>\n",
       "      <th>Total Sales</th>\n",
       "      <th>Operating Profit</th>\n",
       "      <th>Operating Margin</th>\n",
       "      <th>Sales Method</th>\n",
       "      <th>Year</th>\n",
       "      <th>Month</th>\n",
       "      <th>Day</th>\n",
       "    </tr>\n",
       "  </thead>\n",
       "  <tbody>\n",
       "    <tr>\n",
       "      <th>0</th>\n",
       "      <td>Foot Locker</td>\n",
       "      <td>1185732</td>\n",
       "      <td>2020-01-01</td>\n",
       "      <td>Northeast</td>\n",
       "      <td>New York</td>\n",
       "      <td>New York</td>\n",
       "      <td>Men's Street Footwear</td>\n",
       "      <td>50.0</td>\n",
       "      <td>1200.0</td>\n",
       "      <td>600000.0</td>\n",
       "      <td>300000.0</td>\n",
       "      <td>0.50</td>\n",
       "      <td>In-store</td>\n",
       "      <td>2020</td>\n",
       "      <td>1</td>\n",
       "      <td>1</td>\n",
       "    </tr>\n",
       "    <tr>\n",
       "      <th>1</th>\n",
       "      <td>Foot Locker</td>\n",
       "      <td>1185732</td>\n",
       "      <td>2020-02-01</td>\n",
       "      <td>Northeast</td>\n",
       "      <td>New York</td>\n",
       "      <td>New York</td>\n",
       "      <td>Men's Athletic Footwear</td>\n",
       "      <td>50.0</td>\n",
       "      <td>1000.0</td>\n",
       "      <td>500000.0</td>\n",
       "      <td>150000.0</td>\n",
       "      <td>0.30</td>\n",
       "      <td>In-store</td>\n",
       "      <td>2020</td>\n",
       "      <td>2</td>\n",
       "      <td>1</td>\n",
       "    </tr>\n",
       "    <tr>\n",
       "      <th>2</th>\n",
       "      <td>Foot Locker</td>\n",
       "      <td>1185732</td>\n",
       "      <td>2020-03-01</td>\n",
       "      <td>Northeast</td>\n",
       "      <td>New York</td>\n",
       "      <td>New York</td>\n",
       "      <td>Women's Street Footwear</td>\n",
       "      <td>40.0</td>\n",
       "      <td>1000.0</td>\n",
       "      <td>400000.0</td>\n",
       "      <td>140000.0</td>\n",
       "      <td>0.35</td>\n",
       "      <td>In-store</td>\n",
       "      <td>2020</td>\n",
       "      <td>3</td>\n",
       "      <td>1</td>\n",
       "    </tr>\n",
       "    <tr>\n",
       "      <th>3</th>\n",
       "      <td>Foot Locker</td>\n",
       "      <td>1185732</td>\n",
       "      <td>2020-04-01</td>\n",
       "      <td>Northeast</td>\n",
       "      <td>New York</td>\n",
       "      <td>New York</td>\n",
       "      <td>Women's Athletic Footwear</td>\n",
       "      <td>45.0</td>\n",
       "      <td>850.0</td>\n",
       "      <td>382500.0</td>\n",
       "      <td>133875.0</td>\n",
       "      <td>0.35</td>\n",
       "      <td>In-store</td>\n",
       "      <td>2020</td>\n",
       "      <td>4</td>\n",
       "      <td>1</td>\n",
       "    </tr>\n",
       "    <tr>\n",
       "      <th>4</th>\n",
       "      <td>Foot Locker</td>\n",
       "      <td>1185732</td>\n",
       "      <td>2020-05-01</td>\n",
       "      <td>Northeast</td>\n",
       "      <td>New York</td>\n",
       "      <td>New York</td>\n",
       "      <td>Men's Apparel</td>\n",
       "      <td>60.0</td>\n",
       "      <td>900.0</td>\n",
       "      <td>540000.0</td>\n",
       "      <td>162000.0</td>\n",
       "      <td>0.30</td>\n",
       "      <td>In-store</td>\n",
       "      <td>2020</td>\n",
       "      <td>5</td>\n",
       "      <td>1</td>\n",
       "    </tr>\n",
       "  </tbody>\n",
       "</table>\n",
       "</div>"
      ],
      "text/plain": [
       "      Retailer  Retailer ID Invoice Date     Region     State      City  \\\n",
       "0  Foot Locker      1185732   2020-01-01  Northeast  New York  New York   \n",
       "1  Foot Locker      1185732   2020-02-01  Northeast  New York  New York   \n",
       "2  Foot Locker      1185732   2020-03-01  Northeast  New York  New York   \n",
       "3  Foot Locker      1185732   2020-04-01  Northeast  New York  New York   \n",
       "4  Foot Locker      1185732   2020-05-01  Northeast  New York  New York   \n",
       "\n",
       "                     Product  Price per Unit  Units Sold  Total Sales  \\\n",
       "0      Men's Street Footwear            50.0      1200.0     600000.0   \n",
       "1    Men's Athletic Footwear            50.0      1000.0     500000.0   \n",
       "2    Women's Street Footwear            40.0      1000.0     400000.0   \n",
       "3  Women's Athletic Footwear            45.0       850.0     382500.0   \n",
       "4              Men's Apparel            60.0       900.0     540000.0   \n",
       "\n",
       "   Operating Profit  Operating Margin Sales Method  Year  Month  Day  \n",
       "0          300000.0              0.50     In-store  2020      1    1  \n",
       "1          150000.0              0.30     In-store  2020      2    1  \n",
       "2          140000.0              0.35     In-store  2020      3    1  \n",
       "3          133875.0              0.35     In-store  2020      4    1  \n",
       "4          162000.0              0.30     In-store  2020      5    1  "
      ]
     },
     "execution_count": 26,
     "metadata": {},
     "output_type": "execute_result"
    }
   ],
   "source": [
    "df['Year'] = df['Invoice Date'].dt.year\n",
    "df['Month'] = df['Invoice Date'].dt.month\n",
    "df['Day'] = df['Invoice Date'].dt.day\n",
    "df.head()"
   ]
  },
  {
   "cell_type": "markdown",
   "metadata": {},
   "source": [
    "Sales Performance Analysis\n",
    "\n",
    "Regional Analysis: Group the data by Region, State, and City to analyze sales performance.\n",
    "\n",
    "Product Analysis: Group the data by Product to identify the top-performing products.\n",
    "\n",
    "Time Series Analysis: Create a time series plot of total sales over time to identify trends.\n",
    "\n",
    "Insights: Summarize key findings, such as which regions and products are performing best."
   ]
  },
  {
   "cell_type": "code",
   "execution_count": 27,
   "metadata": {},
   "outputs": [],
   "source": [
    "import matplotlib.pyplot as plt\n",
    "import seaborn as sns"
   ]
  },
  {
   "cell_type": "code",
   "execution_count": 28,
   "metadata": {},
   "outputs": [],
   "source": [
    "region_sales = df.groupby(['Region','State','City'])['Total Sales'].sum().reset_index()"
   ]
  },
  {
   "cell_type": "code",
   "execution_count": 30,
   "metadata": {},
   "outputs": [
    {
     "name": "stdout",
     "output_type": "stream",
     "text": [
      "Top Regions by Total Sales: \n"
     ]
    },
    {
     "data": {
      "text/html": [
       "<div>\n",
       "<style scoped>\n",
       "    .dataframe tbody tr th:only-of-type {\n",
       "        vertical-align: middle;\n",
       "    }\n",
       "\n",
       "    .dataframe tbody tr th {\n",
       "        vertical-align: top;\n",
       "    }\n",
       "\n",
       "    .dataframe thead th {\n",
       "        text-align: right;\n",
       "    }\n",
       "</style>\n",
       "<table border=\"1\" class=\"dataframe\">\n",
       "  <thead>\n",
       "    <tr style=\"text-align: right;\">\n",
       "      <th></th>\n",
       "      <th>Region</th>\n",
       "      <th>State</th>\n",
       "      <th>City</th>\n",
       "      <th>Total Sales</th>\n",
       "    </tr>\n",
       "  </thead>\n",
       "  <tbody>\n",
       "    <tr>\n",
       "      <th>21</th>\n",
       "      <td>Northeast</td>\n",
       "      <td>New York</td>\n",
       "      <td>New York</td>\n",
       "      <td>39801235.0</td>\n",
       "    </tr>\n",
       "    <tr>\n",
       "      <th>44</th>\n",
       "      <td>West</td>\n",
       "      <td>California</td>\n",
       "      <td>San Francisco</td>\n",
       "      <td>34539220.0</td>\n",
       "    </tr>\n",
       "    <tr>\n",
       "      <th>34</th>\n",
       "      <td>Southeast</td>\n",
       "      <td>Florida</td>\n",
       "      <td>Miami</td>\n",
       "      <td>31600863.0</td>\n",
       "    </tr>\n",
       "    <tr>\n",
       "      <th>39</th>\n",
       "      <td>Southeast</td>\n",
       "      <td>South Carolina</td>\n",
       "      <td>Charleston</td>\n",
       "      <td>29285637.0</td>\n",
       "    </tr>\n",
       "    <tr>\n",
       "      <th>35</th>\n",
       "      <td>Southeast</td>\n",
       "      <td>Florida</td>\n",
       "      <td>Orlando</td>\n",
       "      <td>27682851.0</td>\n",
       "    </tr>\n",
       "  </tbody>\n",
       "</table>\n",
       "</div>"
      ],
      "text/plain": [
       "       Region           State           City  Total Sales\n",
       "21  Northeast        New York       New York   39801235.0\n",
       "44       West      California  San Francisco   34539220.0\n",
       "34  Southeast         Florida          Miami   31600863.0\n",
       "39  Southeast  South Carolina     Charleston   29285637.0\n",
       "35  Southeast         Florida        Orlando   27682851.0"
      ]
     },
     "execution_count": 30,
     "metadata": {},
     "output_type": "execute_result"
    }
   ],
   "source": [
    "top_regions = region_sales.sort_values(by='Total Sales', ascending=False)\n",
    "print(\"Top Regions by Total Sales: \")\n",
    "top_regions.head()"
   ]
  },
  {
   "cell_type": "code",
   "execution_count": 35,
   "metadata": {},
   "outputs": [
    {
     "data": {
      "text/plain": [
       "Text(0.5, 1.0, 'Total Sales by region')"
      ]
     },
     "execution_count": 35,
     "metadata": {},
     "output_type": "execute_result"
    },
    {
     "data": {
      "image/png": "[encoded data removed]",
      "text/plain": [
       "<Figure size 1000x600 with 1 Axes>"
      ]
     },
     "metadata": {},
     "output_type": "display_data"
    }
   ],
   "source": [
    "plt.figure(figsize=(10,6))\n",
    "sns.barplot(x='Total Sales',y='Region',data = top_regions)\n",
    "plt.title('Total Sales by region')"
   ]
  },
  {
   "cell_type": "code",
   "execution_count": 36,
   "metadata": {},
   "outputs": [],
   "source": [
    "product_sales = df.groupby('Product')['Total Sales'].sum().reset_index()"
   ]
  },
  {
   "cell_type": "code",
   "execution_count": 37,
   "metadata": {},
   "outputs": [
    {
     "name": "stdout",
     "output_type": "stream",
     "text": [
      "Top products by Total sales: \n"
     ]
    },
    {
     "data": {
      "text/html": [
       "<div>\n",
       "<style scoped>\n",
       "    .dataframe tbody tr th:only-of-type {\n",
       "        vertical-align: middle;\n",
       "    }\n",
       "\n",
       "    .dataframe tbody tr th {\n",
       "        vertical-align: top;\n",
       "    }\n",
       "\n",
       "    .dataframe thead th {\n",
       "        text-align: right;\n",
       "    }\n",
       "</style>\n",
       "<table border=\"1\" class=\"dataframe\">\n",
       "  <thead>\n",
       "    <tr style=\"text-align: right;\">\n",
       "      <th></th>\n",
       "      <th>Product</th>\n",
       "      <th>Total Sales</th>\n",
       "    </tr>\n",
       "  </thead>\n",
       "  <tbody>\n",
       "    <tr>\n",
       "      <th>2</th>\n",
       "      <td>Men's Street Footwear</td>\n",
       "      <td>208826244.0</td>\n",
       "    </tr>\n",
       "    <tr>\n",
       "      <th>3</th>\n",
       "      <td>Women's Apparel</td>\n",
       "      <td>179038860.0</td>\n",
       "    </tr>\n",
       "    <tr>\n",
       "      <th>1</th>\n",
       "      <td>Men's Athletic Footwear</td>\n",
       "      <td>153673680.0</td>\n",
       "    </tr>\n",
       "    <tr>\n",
       "      <th>5</th>\n",
       "      <td>Women's Street Footwear</td>\n",
       "      <td>128002813.0</td>\n",
       "    </tr>\n",
       "    <tr>\n",
       "      <th>0</th>\n",
       "      <td>Men's Apparel</td>\n",
       "      <td>123728632.0</td>\n",
       "    </tr>\n",
       "  </tbody>\n",
       "</table>\n",
       "</div>"
      ],
      "text/plain": [
       "                   Product  Total Sales\n",
       "2    Men's Street Footwear  208826244.0\n",
       "3          Women's Apparel  179038860.0\n",
       "1  Men's Athletic Footwear  153673680.0\n",
       "5  Women's Street Footwear  128002813.0\n",
       "0            Men's Apparel  123728632.0"
      ]
     },
     "execution_count": 37,
     "metadata": {},
     "output_type": "execute_result"
    }
   ],
   "source": [
    "top_products = product_sales.sort_values(by='Total Sales',ascending=False)\n",
    "print(\"Top products by Total sales: \")\n",
    "top_products.head()"
   ]
  },
  {
   "cell_type": "code",
   "execution_count": 38,
   "metadata": {},
   "outputs": [
    {
     "data": {
      "text/plain": [
       "Text(0.5, 1.0, 'Top products by total sales')"
      ]
     },
     "execution_count": 38,
     "metadata": {},
     "output_type": "execute_result"
    },
    {
     "data": {
      "image/png": "[encoded data removed]",
      "text/plain": [
       "<Figure size 640x480 with 1 Axes>"
      ]
     },
     "metadata": {},
     "output_type": "display_data"
    }
   ],
   "source": [
    "sns.barplot(x='Total Sales',y='Product',data=top_products)\n",
    "plt.title(\"Top products by total sales\")"
   ]
  },
  {
   "cell_type": "code",
   "execution_count": 40,
   "metadata": {},
   "outputs": [],
   "source": [
    "df['Month_year'] = df['Invoice Date'].dt.to_period('M')\n",
    "time_series_sales = df.groupby('Month_year')['Total Sales'].sum().reset_index()"
   ]
  },
  {
   "cell_type": "code",
   "execution_count": 41,
   "metadata": {},
   "outputs": [
    {
     "name": "stdout",
     "output_type": "stream",
     "text": [
      "Top Month Year Sales: \n"
     ]
    },
    {
     "data": {
      "text/html": [
       "<div>\n",
       "<style scoped>\n",
       "    .dataframe tbody tr th:only-of-type {\n",
       "        vertical-align: middle;\n",
       "    }\n",
       "\n",
       "    .dataframe tbody tr th {\n",
       "        vertical-align: top;\n",
       "    }\n",
       "\n",
       "    .dataframe thead th {\n",
       "        text-align: right;\n",
       "    }\n",
       "</style>\n",
       "<table border=\"1\" class=\"dataframe\">\n",
       "  <thead>\n",
       "    <tr style=\"text-align: right;\">\n",
       "      <th></th>\n",
       "      <th>Month_year</th>\n",
       "      <th>Total Sales</th>\n",
       "    </tr>\n",
       "  </thead>\n",
       "  <tbody>\n",
       "    <tr>\n",
       "      <th>21</th>\n",
       "      <td>2021-10</td>\n",
       "      <td>80101388.0</td>\n",
       "    </tr>\n",
       "    <tr>\n",
       "      <th>23</th>\n",
       "      <td>2021-12</td>\n",
       "      <td>72635690.0</td>\n",
       "    </tr>\n",
       "    <tr>\n",
       "      <th>20</th>\n",
       "      <td>2021-09</td>\n",
       "      <td>69674833.0</td>\n",
       "    </tr>\n",
       "    <tr>\n",
       "      <th>17</th>\n",
       "      <td>2021-06</td>\n",
       "      <td>68245745.0</td>\n",
       "    </tr>\n",
       "    <tr>\n",
       "      <th>19</th>\n",
       "      <td>2021-08</td>\n",
       "      <td>66829450.0</td>\n",
       "    </tr>\n",
       "  </tbody>\n",
       "</table>\n",
       "</div>"
      ],
      "text/plain": [
       "   Month_year  Total Sales\n",
       "21    2021-10   80101388.0\n",
       "23    2021-12   72635690.0\n",
       "20    2021-09   69674833.0\n",
       "17    2021-06   68245745.0\n",
       "19    2021-08   66829450.0"
      ]
     },
     "execution_count": 41,
     "metadata": {},
     "output_type": "execute_result"
    }
   ],
   "source": [
    "top_time_series_sales = time_series_sales.sort_values(by='Total Sales',ascending=False)\n",
    "print(\"Top Month Year Sales: \")\n",
    "top_time_series_sales.head()"
   ]
  },
  {
   "cell_type": "code",
   "execution_count": 46,
   "metadata": {},
   "outputs": [
    {
     "data": {
      "text/plain": [
       "Text(0.5, 1.0, 'Total Sale over Time')"
      ]
     },
     "execution_count": 46,
     "metadata": {},
     "output_type": "execute_result"
    },
    {
     "data": {
      "image/png": "[encoded data removed]",
      "text/plain": [
       "<Figure size 640x480 with 1 Axes>"
      ]
     },
     "metadata": {},
     "output_type": "display_data"
    }
   ],
   "source": [
    "sns.barplot(x='Total Sales', y='Month_year',data=top_time_series_sales)\n",
    "plt.title(\"Total Sale over Time\")"
   ]
  },
  {
   "cell_type": "code",
   "execution_count": 52,
   "metadata": {},
   "outputs": [
    {
     "name": "stdout",
     "output_type": "stream",
     "text": [
      "SALES PERFORMANCE INSIGHTS ---\n",
      "Top region by sales: Northeast with sales of $39801235.0\n",
      "Top product by sales: Men's Street Footwear with sales of $208826244.0\n",
      "Sales has been increasing over time but it was at a significant peak of $80101388.0 in 2021-10\n"
     ]
    }
   ],
   "source": [
    "print(\"SALES PERFORMANCE INSIGHTS ---\")\n",
    "print(f\"Top region by sales: {top_regions.iloc[0]['Region']} with sales of ${top_regions.iloc[0]['Total Sales']}\")\n",
    "print(f\"Top product by sales: {top_products.iloc[0]['Product']} with sales of ${top_products.iloc[0]['Total Sales']}\")\n",
    "print(f\"Sales has been increasing over time but it was at a significant peak of ${top_time_series_sales.iloc[0]['Total Sales']} in {top_time_series_sales.iloc[0]['Month_year']}\")"
   ]
  },
  {
   "cell_type": "markdown",
   "metadata": {},
   "source": [
    "Profitability Analysis\n",
    "\n",
    "Operating Profit and Margin by Product: Group by Product to analyze profitability.\n",
    "\n",
    "Operating Profit and Margin by Region: Group by Region, State, and City to compare profitability across locations.\n",
    "\n",
    "Visualization: Use bar charts or heatmaps to visualize the profitability data.\n",
    "\n",
    "Strategy Suggestions: Based on the analysis, suggest ways to improve profitability (e.g., focusing on high-margin products)."
   ]
  },
  {
   "cell_type": "markdown",
   "metadata": {},
   "source": []
  }
 ],
 "metadata": {
  "kernelspec": {
   "display_name": "Python 3",
   "language": "python",
   "name": "python3"
  },
  "language_info": {
   "codemirror_mode": {
    "name": "ipython",
    "version": 3
   },
   "file_extension": ".py",
   "mimetype": "text/x-python",
   "name": "python",
   "nbconvert_exporter": "python",
   "pygments_lexer": "ipython3",
   "version": "3.12.2"
  }
 },
 "nbformat": 4,
 "nbformat_minor": 2
}
